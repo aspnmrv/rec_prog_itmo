{
 "cells": [
  {
   "cell_type": "code",
   "execution_count": 11,
   "id": "149075b0",
   "metadata": {},
   "outputs": [],
   "source": [
    "import requests\n",
    "from bs4 import BeautifulSoup\n",
    "import pdfplumber\n",
    "import json\n",
    "import re\n",
    "from pathlib import Path"
   ]
  },
  {
   "cell_type": "code",
   "execution_count": 2,
   "id": "827daaec",
   "metadata": {},
   "outputs": [],
   "source": [
    "BASE_DIR = Path(\"./data\")\n",
    "BASE_DIR.mkdir(exist_ok=True)"
   ]
  },
  {
   "cell_type": "code",
   "execution_count": 3,
   "id": "820f60fa",
   "metadata": {},
   "outputs": [],
   "source": [
    "urls = {\n",
    "    \"ai\": \"https://abit.itmo.ru/program/master/ai\",\n",
    "    \"ai_product\": \"https://abit.itmo.ru/program/master/ai_product\"\n",
    "}"
   ]
  },
  {
   "cell_type": "code",
   "execution_count": 12,
   "id": "27f8a774",
   "metadata": {},
   "outputs": [],
   "source": [
    "def fetch_program_info(name, url):\n",
    "    \"\"\"\"\"\"\n",
    "    resp = requests.get(url)\n",
    "    resp.raise_for_status()\n",
    "    soup = BeautifulSoup(resp.text, \"html.parser\")\n",
    "\n",
    "    desc_block = soup.find(\"div\", {\"class\": \"program-description\"}) or soup\n",
    "    description = \" \".join(desc_block.stripped_strings)\n",
    "\n",
    "    pdf_links = [a[\"href\"] for a in soup.find_all(\"a\", href=True) if a[\"href\"].endswith(\".pdf\")]\n",
    "    return {\n",
    "        \"name\": name,\n",
    "        \"description\": description,\n",
    "        \"pdf_links\": pdf_links\n",
    "    }\n",
    "\n",
    "programs = {name: fetch_program_info(name, url) for name, url in urls.items()}"
   ]
  },
  {
   "cell_type": "code",
   "execution_count": 5,
   "id": "da87fb13",
   "metadata": {},
   "outputs": [],
   "source": []
  },
  {
   "cell_type": "code",
   "execution_count": 13,
   "id": "d03b1760",
   "metadata": {},
   "outputs": [],
   "source": [
    "def download_pdf(url, filename):\n",
    "    \"\"\"\"\"\"\n",
    "    if not url.startswith(\"http\"):\n",
    "        url = \"https://abit.itmo.ru\" + url\n",
    "    r = requests.get(url)\n",
    "    r.raise_for_status()\n",
    "    with open(filename, \"wb\") as f:\n",
    "        f.write(r.content)\n",
    "    return filename"
   ]
  },
  {
   "cell_type": "code",
   "execution_count": 14,
   "id": "898aeb3e",
   "metadata": {},
   "outputs": [],
   "source": [
    "def parse_curriculum_tables(pdf_path):\n",
    "    \"\"\"\"\"\"\n",
    "    courses = []\n",
    "    with pdfplumber.open(pdf_path) as pdf:\n",
    "        for page in pdf.pages:\n",
    "            tables = page.extract_tables()\n",
    "            for table in tables:\n",
    "                for row in table:\n",
    "                    if not row or len(row) < 3:\n",
    "                        continue\n",
    "                    try:\n",
    "                        semester = row[0].strip()\n",
    "                        name = row[1].strip()\n",
    "                        credits = row[-2].strip()\n",
    "                        hours = row[-1].strip()\n",
    "                    except Exception:\n",
    "                        continue\n",
    "\n",
    "                    # отбрасываем заголовки\n",
    "                    if not name or \"дисципл\" in name.lower() or \"модуль\" in name.lower():\n",
    "                        continue\n",
    "\n",
    "                    courses.append({\n",
    "                        \"semester\": semester,\n",
    "                        \"name\": name,\n",
    "                        \"credits\": credits,\n",
    "                        \"hours\": hours\n",
    "                    })\n",
    "    return courses"
   ]
  },
  {
   "cell_type": "code",
   "execution_count": 15,
   "id": "a28d6f01",
   "metadata": {},
   "outputs": [],
   "source": [
    "def program_to_json(info, pdf_file, out_file):\n",
    "    \"\"\"\"\"\"\n",
    "    courses = parse_curriculum_tables(pdf_file)\n",
    "    result = {\n",
    "        \"program_name\": info[\"name\"],\n",
    "        \"description\": info[\"description\"],\n",
    "        \"courses\": courses\n",
    "    }\n",
    "    with open(out_file, \"w\", encoding=\"utf-8\") as f:\n",
    "        json.dump(result, f, ensure_ascii=False, indent=2)\n",
    "    return result"
   ]
  },
  {
   "cell_type": "code",
   "execution_count": 16,
   "id": "ba163244",
   "metadata": {},
   "outputs": [],
   "source": [
    "all_results = {}\n",
    "\n",
    "for name, info in programs.items():\n",
    "    if info[\"pdf_links\"]:\n",
    "        pdf_file = BASE_DIR / f\"{name}.pdf\"\n",
    "        download_pdf(info[\"pdf_links\"][0], pdf_file)\n",
    "        out_file = BASE_DIR / f\"{name}.json\"\n",
    "        result = program_to_json(info, pdf_file, out_file)\n",
    "        all_results[name] = result\n",
    "    else:\n",
    "        all_results[name] = {\n",
    "            \"program_name\": name,\n",
    "            \"description\": info[\"description\"],\n",
    "            \"courses\": []\n",
    "        }"
   ]
  },
  {
   "cell_type": "code",
   "execution_count": 17,
   "id": "30b6d61e",
   "metadata": {},
   "outputs": [],
   "source": [
    "with open(BASE_DIR / \"all_programs.json\", \"w\", encoding=\"utf-8\") as f:\n",
    "    json.dump(all_results, f, ensure_ascii=False, indent=2)"
   ]
  },
  {
   "cell_type": "code",
   "execution_count": null,
   "id": "57b55ee6",
   "metadata": {},
   "outputs": [],
   "source": []
  }
 ],
 "metadata": {
  "kernelspec": {
   "display_name": "Python 3 (ipykernel)",
   "language": "python",
   "name": "python3"
  },
  "language_info": {
   "codemirror_mode": {
    "name": "ipython",
    "version": 3
   },
   "file_extension": ".py",
   "mimetype": "text/x-python",
   "name": "python",
   "nbconvert_exporter": "python",
   "pygments_lexer": "ipython3",
   "version": "3.11.9"
  }
 },
 "nbformat": 4,
 "nbformat_minor": 5
}
